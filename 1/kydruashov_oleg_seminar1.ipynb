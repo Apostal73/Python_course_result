{
 "cells": [
  {
   "cell_type": "markdown",
   "metadata": {},
   "source": [
    "# Практическое занятие 1. Основные типы данных Python. Control structures\n",
    "\n",
    "# Основные типы данных Python\n",
    "\n",
    "> Перед выполнением задания скопировать себе данный файл и переименовать его в свои ФИО. Все задания выполнять в скопированном notebook'е в блоках с кодом. Конечный файл должен быть сохранен со всеми выполненными блоками кода."
   ]
  },
  {
   "cell_type": "markdown",
   "metadata": {},
   "source": [
    "## Задание 1.1\n",
    "\n",
    "Используя подготовленную строку `nat`, получить новую строку, в которой в имени интерфейса вместо `FastEthernet` написано `GigabitEthernet`. "
   ]
  },
  {
   "cell_type": "code",
   "execution_count": 7,
   "metadata": {},
   "outputs": [
    {
     "data": {
      "text/plain": [
       "'ip nat inside source list ACL interface GigabitEthernet0/1 overload'"
      ]
     },
     "execution_count": 7,
     "metadata": {},
     "output_type": "execute_result"
    }
   ],
   "source": [
    "nat = \"ip nat inside source list ACL interface FastEthernet0/1 overload\"\n",
    "nat.replace('Fast', 'Gigabit')"
   ]
  },
  {
   "cell_type": "markdown",
   "metadata": {},
   "source": [
    "## Задание 1.2\n",
    "\n",
    "Преобразовать строку в переменной `mac` из формата `XXXX:XXXX:XXXX` в формат `XXXX.XXXX.XXXX`"
   ]
  },
  {
   "cell_type": "code",
   "execution_count": 2,
   "metadata": {},
   "outputs": [
    {
     "name": "stdout",
     "output_type": "stream",
     "text": [
      "AAAA.BBBB.CCCC\n"
     ]
    }
   ],
   "source": [
    "mac = \"AAAA:BBBB:CCCC\"\n",
    "a = mac.split(':') #вспомогательная переменная для разделения строки\n",
    "mac = a[0]+'.'+a[1]+'.'+a[2]\n",
    "print(mac)"
   ]
  },
  {
   "cell_type": "markdown",
   "metadata": {},
   "source": [
    "## Задание 1.3\n",
    "\n",
    "Получить из строки `config` такой список VLANов:\n",
    "\n",
    "```\n",
    "['1', '3', '10', '20', '30', '100']\n",
    "```\n",
    "\n",
    "Тут очень важный момент, что надо получить именно список (тип данных), а не, например, строку, которая похожа на показанный список."
   ]
  },
  {
   "cell_type": "code",
   "execution_count": 29,
   "metadata": {},
   "outputs": [
    {
     "name": "stdout",
     "output_type": "stream",
     "text": [
      "['1', '3', '10', '20', '30', '100']\n"
     ]
    }
   ],
   "source": [
    "config = \"switchport trunk allowed vlan 1,3,10,20,30,100\"\n",
    "config1 = config.split()\n",
    "vlan_str = config1[-1]\n",
    "vlan_list = vlan_str.split(',')\n",
    "print(vlan_list)"
   ]
  },
  {
   "cell_type": "markdown",
   "metadata": {},
   "source": [
    "## Задание 1.4\n",
    "\n",
    "Список `vlans` это список VLANов, собранных со всех устройств сети, поэтому в списке есть повторяющиеся номера VLAN.\n",
    "\n",
    "Из списка `vlans` нужно получить новый список уникальных номеров VLANов, отсортированный по возрастанию номеров. Для получения итогового списка нельзя удалять конкретные vlanы вручную."
   ]
  },
  {
   "cell_type": "code",
   "execution_count": 42,
   "metadata": {},
   "outputs": [
    {
     "data": {
      "text/plain": [
       "[1, 2, 3, 4, 10, 20, 30, 100]"
      ]
     },
     "execution_count": 42,
     "metadata": {},
     "output_type": "execute_result"
    }
   ],
   "source": [
    "vlans = [10, 20, 30, 1, 2, 100, 10, 30, 3, 4, 10]\n",
    "vlans=set(vlans)\n",
    "vlans = list(vlans)\n",
    "sorted(vlans)"
   ]
  },
  {
   "cell_type": "markdown",
   "metadata": {},
   "source": [
    "## Задание 1.5\n",
    "\n",
    "Из строк `command1` и `command2` получить список VLANов, которые есть и в команде `command1` и в команде `command2` (пересечение).\n",
    "\n",
    "В данном случае, результатом должен быть такой список: `['1', '3', '8']`"
   ]
  },
  {
   "cell_type": "code",
   "execution_count": 3,
   "metadata": {},
   "outputs": [
    {
     "name": "stdout",
     "output_type": "stream",
     "text": [
      "['1', '3', '8']\n"
     ]
    }
   ],
   "source": [
    "command1 = \"switchport trunk allowed vlan 1,2,3,5,8\"\n",
    "command2 = \"switchport trunk allowed vlan 1,3,8,9\"\n",
    "command1 = command1.split()\n",
    "command1_str = command1[-1]\n",
    "command1_list = command1_str.split(',')\n",
    "command1_set = set(command1_list)\n",
    "command2 = command2.split()\n",
    "command2_str = command2[-1]\n",
    "command2_list = command2_str.split(',')\n",
    "command2_set = set(command2_list)\n",
    "command_result = sorted(command1_set & command2_set)\n",
    "print(list(command_result))"
   ]
  },
  {
   "cell_type": "markdown",
   "metadata": {},
   "source": [
    "## Задание 1.6\n",
    "\n",
    "Обработать строку `ospf_route` и вывести информацию на стандартный поток вывода в виде:\n",
    "\n",
    "```\n",
    "Prefix                10.0.24.0/24\n",
    "AD/Metric             110/41\n",
    "Next-Hop              10.0.13.3\n",
    "Last update           3d18h\n",
    "Outbound Interface    FastEthernet0/0\n",
    "```"
   ]
  },
  {
   "cell_type": "code",
   "execution_count": 5,
   "metadata": {},
   "outputs": [
    {
     "name": "stdout",
     "output_type": "stream",
     "text": [
      "\n",
      "Prefix                10.0.24.0/24\n",
      "AD/Metric             [110/41]\n",
      "Next-Hop              10.0.13.3\n",
      "Last update           3d18h\n",
      "Outbound Interface    FastEthernet0/0\n",
      "\n"
     ]
    }
   ],
   "source": [
    "ospf_route = \"       10.0.24.0/24 [110/41] via 10.0.13.3, 3d18h, FastEthernet0/0\"\n",
    "a = ospf_route.lstrip() # удаляем пробелы слева\n",
    "b = a.split(' ') # список строк\n",
    "c = list(b)\n",
    "print(f'''\n",
    "Prefix                {c[0]}\n",
    "AD/Metric             {c[1]}\n",
    "Next-Hop              {c[3].strip(',')}\n",
    "Last update           {c[4].strip(',')}\n",
    "Outbound Interface    {c[5].strip(',')}\n",
    "''')\n",
    "\n"
   ]
  },
  {
   "cell_type": "markdown",
   "metadata": {},
   "source": [
    "## Задание 1.7\n",
    "\n",
    "Преобразовать MAC-адрес в строке `mac` в двоичную строку такого вида: „101010101010101010111011101110111100110011001100“"
   ]
  },
  {
   "cell_type": "code",
   "execution_count": 6,
   "metadata": {},
   "outputs": [
    {
     "name": "stdout",
     "output_type": "stream",
     "text": [
      "101010101010101010111011101110111100110011001100\n"
     ]
    }
   ],
   "source": [
    "mac = \"AAAA:BBBB:CCCC\"\n",
    "mac_0 = mac.split(':')\n",
    "mac_1 = bin(int(mac_0[0],16))\n",
    "mac_2 = bin(int(mac_0[1],16))\n",
    "mac_3 = bin(int(mac_0[2],16))\n",
    "print(mac_1[2:],mac_2[2:],mac_3[2:],sep='')"
   ]
  },
  {
   "cell_type": "markdown",
   "metadata": {},
   "source": [
    "## Задание 1.8\n",
    "\n",
    "Преобразовать IP-адрес в переменной `ip` в двоичный формат и вывести на стандартный поток вывода вывод столбцами, таким образом:\n",
    "\n",
    "* первой строкой должны идти десятичные значения байтов\n",
    "* второй строкой двоичные значения\n",
    "\n",
    "Вывод должен быть упорядочен также, как в примере:\n",
    "\n",
    "* столбцами\n",
    "* ширина столбца 10 символов (в двоичном формате надо добавить два пробела между столбцами для разделения октетов между собой)\n",
    "\n",
    "Пример вывода для адреса 10.1.1.1:\n",
    "\n",
    "```\n",
    "10        1         1         1\n",
    "00001010  00000001  00000001  00000001\n",
    "```"
   ]
  },
  {
   "cell_type": "code",
   "execution_count": 39,
   "metadata": {},
   "outputs": [
    {
     "name": "stdout",
     "output_type": "stream",
     "text": [
      "192       168       3         1        \n",
      "11000000  10101000  00000011  00000001\n"
     ]
    }
   ],
   "source": [
    "ip = \"192.168.3.1\"\n",
    "ip_0 = ip.split('.')\n",
    "print(f'{int(ip_0[0]):<9} {int(ip_0[1]):<9} {int(ip_0[2]):<9} {int(ip_0[3]):<9}')\n",
    "print(f'{bin(int(ip_0[0]))[2:]:<10}{bin(int(ip_0[1]))[2:]:<10}{int(ip_0[2]):08b}  {int(ip_0[3]):08b}')"
   ]
  },
  {
   "cell_type": "markdown",
   "metadata": {},
   "source": [
    "# Control structures\n",
    "\n",
    "## Задание 2.1\n",
    "\n",
    "Список mac содержит MAC-адреса в формате `XXXX:XXXX:XXXX`. Однако, в оборудовании cisco MAC-адреса используются в формате `XXXX.XXXX.XXXX`.\n",
    "\n",
    "Написать код, который преобразует MAC-адреса в формат cisco и добавляет их в новый список. "
   ]
  },
  {
   "cell_type": "code",
   "execution_count": 13,
   "metadata": {},
   "outputs": [
    {
     "name": "stdout",
     "output_type": "stream",
     "text": [
      "['aabb.cc80.7000', 'aabb.dd80.7340', 'aabb.ee80.7000', 'aabb.ff80.7000']\n"
     ]
    }
   ],
   "source": [
    "mac = [\"aabb:cc80:7000\", \"aabb:dd80:7340\", \"aabb:ee80:7000\", \"aabb:ff80:7000\"]\n",
    "mac_cisco = []\n",
    "for i in range(0,len(mac)):\n",
    "    mac_0 = mac[i]\n",
    "    mac_0_result = mac_0.split(':')\n",
    "    mac_0_1 = mac_0_result[0] +'.' + mac_0_result[1] + '.' + mac_0_result[2]\n",
    "    mac_cisco.append(mac_0_1)\n",
    "print(mac_cisco)"
   ]
  },
  {
   "cell_type": "markdown",
   "metadata": {},
   "source": [
    "## Задание 2.2\n",
    "\n",
    "1. Запросить у пользователя ввод IP-адреса в формате 10.0.1.1\n",
    "2. В зависимости от типа адреса (описаны ниже), вывести на стандартный поток вывода:\n",
    "    * «unicast» - если первый байт в диапазоне 1-223\n",
    "    * «multicast» - если первый байт в диапазоне 224-239\n",
    "    * «local broadcast» - если IP-адрес равен 255.255.255.255\n",
    "    * «unassigned» - если IP-адрес равен 0.0.0.0\n",
    "    * «unused» - во всех остальных случаях"
   ]
  },
  {
   "cell_type": "code",
   "execution_count": 6,
   "metadata": {},
   "outputs": [
    {
     "name": "stdout",
     "output_type": "stream",
     "text": [
      "255.255.255.255\n",
      "local broadcast\n"
     ]
    }
   ],
   "source": [
    "IP = input('Введите IP-адрес в формате XXX.XXX.XXX.XXX ')\n",
    "ip_0 = IP.split('.')\n",
    "if 1 <= int(ip_0[0]) <= 223:\n",
    "    print('unicast')\n",
    "elif 224 <= int(ip_0[0]) <= 239:\n",
    "    print('multicast')\n",
    "elif int(ip_0[0]) == int(ip_0[1]) == int(ip_0[2]) == int(ip_0[3]) == 255:\n",
    "    print('local broadcast')\n",
    "elif int(ip_0[0]) == int(ip_0[1]) == int(ip_0[2]) == int(ip_0[3]) == 0:\n",
    "    print('unassigned')\n",
    "else:\n",
    "    print('unused')"
   ]
  },
  {
   "cell_type": "markdown",
   "metadata": {},
   "source": [
    "# Задание 2.2a\n",
    "\n",
    "Сделать копию скрипта задания 2.2.\n",
    "\n",
    "Добавить проверку введенного IP-адреса. Адрес считается корректно заданным, если он:\n",
    "\n",
    "    * состоит из 4 чисел (а не букв или других символов)\n",
    "    * числа разделенны точкой\n",
    "    * каждое число в диапазоне от 0 до 255\n",
    "\n",
    "Если адрес задан неправильно, выводить сообщение: «Неправильный IP-адрес». Сообщение «Неправильный IP-адрес» должно выводиться только один раз, даже если несколько пунктов выше не выполнены."
   ]
  },
  {
   "cell_type": "code",
   "execution_count": 36,
   "metadata": {},
   "outputs": [
    {
     "name": "stdout",
     "output_type": "stream",
     "text": [
      "Введите IP-адрес в формате XXX.XXX.XXX.XXX asd.asd.asd.asd\n",
      "Неправильный IP-адрес\n"
     ]
    }
   ],
   "source": [
    "IP = input('Введите IP-адрес в формате XXX.XXX.XXX.XXX ')\n",
    "ip_check = True\n",
    "ip_0 = IP.split('.')\n",
    "if len(ip_0) != 4:\n",
    "    ip_check = False\n",
    "for i in ip_0:\n",
    "    if not (i.isdigit()):\n",
    "        ip_check = False\n",
    "        break\n",
    "    else:\n",
    "        if not 0 <= int(i) <= 255:\n",
    "            ip_check = False\n",
    "            break\n",
    "if ip_check == False:\n",
    "        print('Неправильный IP-адрес')\n",
    "elif 1 <= int(ip_0[0]) <= 223:\n",
    "    print('unicast')\n",
    "elif 224 <= int(ip_0[0]) <= 239:\n",
    "    print('multicast')\n",
    "elif int(ip_0[0]) == int(ip_0[1]) == int(ip_0[2]) == int(ip_0[3]) == 255:\n",
    "    print('local broadcast')\n",
    "elif int(ip_0[0]) == int(ip_0[1]) == int(ip_0[2]) == int(ip_0[3]) == 0:\n",
    "    print('unassigned')\n",
    "else:\n",
    "    print('unused')"
   ]
  },
  {
   "cell_type": "markdown",
   "metadata": {},
   "source": [
    "## Задание 2.2b\n",
    "\n",
    "Сделать копию скрипта задания 2.2a.\n",
    "\n",
    "Дополнить скрипт: Если адрес был введен неправильно, запросить адрес снова."
   ]
  },
  {
   "cell_type": "code",
   "execution_count": 38,
   "metadata": {},
   "outputs": [
    {
     "name": "stdout",
     "output_type": "stream",
     "text": [
      "Введите IP-адрес в формате XXX.XXX.XXX.XXX asd.asd.asd.asd\n",
      "Адрес введен не верно, попробуйте ещё раз \n",
      "Введите IP-адрес в формате XXX.XXX.XXX.XXX ...\n",
      "Адрес введен не верно, попробуйте ещё раз \n",
      "Введите IP-адрес в формате XXX.XXX.XXX.XXX 23123\n",
      "Адрес введен не верно, попробуйте ещё раз \n",
      "Введите IP-адрес в формате XXX.XXX.XXX.XXX 192.168.1.1\n",
      "unicast\n"
     ]
    }
   ],
   "source": [
    "ip_check = False\n",
    "while not ip_check:\n",
    "    ip_check = True\n",
    "    IP = input('Введите IP-адрес в формате XXX.XXX.XXX.XXX ')\n",
    "    ip_0 = IP.split('.')\n",
    "    if len(ip_0) != 4:\n",
    "        ip_check = False\n",
    "    for i in ip_0:\n",
    "        if not (i.isdigit()):\n",
    "            ip_check = False\n",
    "            break\n",
    "        else:\n",
    "            if not 0 <= int(i) <= 255:\n",
    "                ip_check = False\n",
    "                break\n",
    "    if ip_check == False:\n",
    "        print('Адрес введен не верно, попробуйте ещё раз ')\n",
    "if 1 <= int(ip_0[0]) <= 223:\n",
    "    print('unicast')\n",
    "elif 224 <= int(ip_0[0]) <= 239:\n",
    "    print('multicast')\n",
    "elif int(ip_0[0]) == int(ip_0[1]) == int(ip_0[2]) == int(ip_0[3]) == 255:\n",
    "    print('local broadcast')\n",
    "elif int(ip_0[0]) == int(ip_0[1]) == int(ip_0[2]) == int(ip_0[3]) == 0:\n",
    "    print('unassigned')\n",
    "else:\n",
    "    print('unused')"
   ]
  },
  {
   "cell_type": "markdown",
   "metadata": {},
   "source": [
    "## Задание 2.3\n",
    "\n",
    "В скрипте ниже сделан генератор конфигурации для access-портов. Сделать аналогичный генератор конфигурации для портов trunk.\n",
    "\n",
    "В транках ситуация усложняется тем, что VLANов может быть много, и надо понимать, что с ним делать. Поэтому в соответствии каждому порту стоит список и первый (нулевой) элемент списка указывает как воспринимать номера VLAN, которые идут дальше.\n",
    "\n",
    "Пример значения и соответствующей команды:\n",
    "\n",
    "* [«add», «10», «20»] - команда switchport trunk allowed vlan add 10,20\n",
    "* [«del», «17»] - команда switchport trunk allowed vlan remove 17\n",
    "* [«only», «11», «30»] - команда switchport trunk allowed vlan 11,30\n",
    "\n",
    "Задача для портов 0/1, 0/2, 0/4:\n",
    "\n",
    "* сгенерировать конфигурацию на основе шаблона trunk_template\n",
    "* с учетом ключевых слов add, del, only\n",
    "\n",
    "Код не должен привязываться к конкретным номерам портов. То есть, если в словаре trunk будут другие номера интерфейсов, код должен работать.\n",
    "\n",
    "Для данных в словаре trunk_template вывод на стандартный поток вывода должен быть таким:\n",
    "\n",
    "```\n",
    "interface FastEthernet 0/1\n",
    " switchport trunk encapsulation dot1q\n",
    " switchport mode trunk\n",
    " switchport trunk allowed vlan add 10,20\n",
    "interface FastEthernet 0/2\n",
    " switchport trunk encapsulation dot1q\n",
    " switchport mode trunk\n",
    " switchport trunk allowed vlan 11,30\n",
    "interface FastEthernet 0/4\n",
    " switchport trunk encapsulation dot1q\n",
    " switchport mode trunk\n",
    " switchport trunk allowed vlan remove 17\n",
    "```"
   ]
  },
  {
   "cell_type": "code",
   "execution_count": 9,
   "metadata": {},
   "outputs": [
    {
     "name": "stdout",
     "output_type": "stream",
     "text": [
      "interface FastEthernet 0/12\n",
      " switchport mode access\n",
      " switchport access vlan 10\n",
      " spanning-tree portfast\n",
      " spanning-tree bpduguard enable\n",
      "interface FastEthernet 0/14\n",
      " switchport mode access\n",
      " switchport access vlan 11\n",
      " spanning-tree portfast\n",
      " spanning-tree bpduguard enable\n",
      "interface FastEthernet 0/16\n",
      " switchport mode access\n",
      " switchport access vlan 17\n",
      " spanning-tree portfast\n",
      " spanning-tree bpduguard enable\n",
      "interface FastEthernet 0/17\n",
      " switchport mode access\n",
      " switchport access vlan 150\n",
      " spanning-tree portfast\n",
      " spanning-tree bpduguard enable\n",
      "interface FastEthernet 0/1\n",
      " switchport trunk encapsulation dot1q\n",
      " switchport mode trunk\n",
      " switchport trunk allowed vlan add 10,20\n",
      "interface FastEthernet 0/2\n",
      " switchport trunk encapsulation dot1q\n",
      " switchport mode trunk\n",
      " switchport trunk allowed vlan 11,30\n",
      "interface FastEthernet 0/4\n",
      " switchport trunk encapsulation dot1q\n",
      " switchport mode trunk\n",
      " switchport trunk allowed vlan remove 17\n"
     ]
    }
   ],
   "source": [
    "access_template = [\n",
    "    \"switchport mode access\",\n",
    "    \"switchport access vlan\",\n",
    "    \"spanning-tree portfast\",\n",
    "    \"spanning-tree bpduguard enable\",\n",
    "]\n",
    "\n",
    "trunk_template = [\n",
    "    \"switchport trunk encapsulation dot1q\",\n",
    "    \"switchport mode trunk\",\n",
    "    \"switchport trunk allowed vlan\",\n",
    "]\n",
    "\n",
    "access = {\"0/12\": \"10\", \"0/14\": \"11\", \"0/16\": \"17\", \"0/17\": \"150\"}\n",
    "trunk = {\"0/1\": [\"add\", \"10\", \"20\"], \"0/2\": [\"only\", \"11\", \"30\"], \"0/4\": [\"del\", \"17\"]}\n",
    "\n",
    "for intf, vlan in access.items():\n",
    "    print(\"interface FastEthernet \" + intf)\n",
    "    for command in access_template:\n",
    "        if command.endswith(\"access vlan\"):\n",
    "            print(f\" {command} {vlan}\")\n",
    "        else:\n",
    "            print(f\" {command}\")\n",
    "for intf, value in trunk.items():\n",
    "    print (\"interface FastEthernet \" + intf)\n",
    "    action = value[0]\n",
    "    for command in trunk_template:\n",
    "        if command.endswith('allowed vlan'):\n",
    "            vlans = \",\".join(value[1:])\n",
    "            if action == \"add\":\n",
    "                print(f\" {command} add {vlans}\")\n",
    "            elif action == \"only\":\n",
    "                print(f\" {command} {vlans}\")\n",
    "            elif action == \"del\":\n",
    "                print(f\" {command} remove {vlans}\")\n",
    "        else:\n",
    "            print(f\" {command}\")"
   ]
  }
 ],
 "metadata": {
  "interpreter": {
   "hash": "aee8b7b246df8f9039afb4144a1f6fd8d2ca17a180786b69acc140d282b71a49"
  },
  "kernelspec": {
   "display_name": "Python 3 (ipykernel)",
   "language": "python",
   "name": "python3"
  },
  "language_info": {
   "codemirror_mode": {
    "name": "ipython",
    "version": 3
   },
   "file_extension": ".py",
   "mimetype": "text/x-python",
   "name": "python",
   "nbconvert_exporter": "python",
   "pygments_lexer": "ipython3",
   "version": "3.9.13"
  }
 },
 "nbformat": 4,
 "nbformat_minor": 2
}
