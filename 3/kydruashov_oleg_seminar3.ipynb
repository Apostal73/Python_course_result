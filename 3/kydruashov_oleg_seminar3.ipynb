{
 "cells": [
  {
   "cell_type": "markdown",
   "metadata": {},
   "source": [
    "# Практическое занятие 3. Работа с файлами\n",
    "\n",
    "> Перед выполнением задания скопировать себе данный файл и переименовать его в свои ФИО. Все задания выполнять в скопированном notebook'е в блоках с кодом. Конечный файл должен быть сохранен со всеми выполненными блоками кода."
   ]
  },
  {
   "cell_type": "markdown",
   "metadata": {},
   "source": [
    "## Задание 1.1\n",
    "\n",
    "Обработать строки из файла `ospf.txt` и вывести информацию по каждой строке в таком виде на стандартный поток вывода:\n",
    "\n",
    "```\n",
    "Prefix                10.0.24.0/24\n",
    "AD/Metric             110/41\n",
    "Next-Hop              10.0.13.3\n",
    "Last update           3d18h\n",
    "Outbound Interface    FastEthernet0/0\n",
    "```"
   ]
  },
  {
   "cell_type": "code",
   "execution_count": 7,
   "metadata": {},
   "outputs": [
    {
     "name": "stdout",
     "output_type": "stream",
     "text": [
      "Prefix                10.0.24.0/24\n",
      "AD/Metric             110/41\n",
      "Next-Hop              10.0.13.3\n",
      "Last update           3d18h\n",
      "Outbound Interface    FastEthernet0/0\n",
      "\n",
      "Prefix                10.0.28.0/24\n",
      "AD/Metric             110/31\n",
      "Next-Hop              10.0.13.3\n",
      "Last update           3d20h\n",
      "Outbound Interface    FastEthernet0/0\n",
      "\n",
      "Prefix                10.0.37.0/24\n",
      "AD/Metric             110/11\n",
      "Next-Hop              10.0.13.3\n",
      "Last update           3d20h\n",
      "Outbound Interface    FastEthernet0/0\n",
      "\n",
      "Prefix                10.0.41.0/24\n",
      "AD/Metric             110/51\n",
      "Next-Hop              10.0.13.3\n",
      "Last update           3d20h\n",
      "Outbound Interface    FastEthernet0/0\n",
      "\n",
      "Prefix                10.0.78.0/24\n",
      "AD/Metric             110/21\n",
      "Next-Hop              10.0.13.3\n",
      "Last update           3d20h\n",
      "Outbound Interface    FastEthernet0/0\n",
      "\n",
      "Prefix                10.0.79.0/24\n",
      "AD/Metric             110/20\n",
      "Next-Hop              10.0.19.9\n",
      "Last update           4d02h\n",
      "Outbound Interface    FastEthernet0/2\n",
      "\n"
     ]
    }
   ],
   "source": [
    "with open('ospf.txt') as f:\n",
    "    for line in f:\n",
    "        line = line.split()\n",
    "        print('Prefix                {}'.format(line[1]))\n",
    "        print('AD/Metric             {}'.format(line[2].strip('[]')))\n",
    "        print('Next-Hop              {}'.format(line[4].strip(',')))\n",
    "        print('Last update           {}'.format(line[5].strip(',')))\n",
    "        print('Outbound Interface    {}'.format(line[6]))\n",
    "        print('')"
   ]
  },
  {
   "cell_type": "markdown",
   "metadata": {},
   "source": [
    "## Задание 1.2\n",
    "\n",
    "Создать скрипт, который будет обрабатывать конфигурационный файл `config_sw1.txt`. Имя файла передается как аргумент скрипту.\n",
    "\n",
    "Скрипт должен возвращать на стандартный поток вывода команды из переданного конфигурационного файла, исключая строки, которые начинаются с `!`.\n",
    "\n",
    "Вывод должен быть без пустых строк.\n",
    "\n",
    "Пример вывода:\n",
    "\n",
    "``` \n",
    "Current configuration : 2033 bytes\n",
    "version 15.0\n",
    "service timestamps debug datetime msec\n",
    "service timestamps log datetime msec\n",
    "no service password-encryption\n",
    "hostname sw1\n",
    "interface Ethernet0/0\n",
    " duplex auto\n",
    "interface Ethernet0/1\n",
    " switchport trunk encapsulation dot1q\n",
    " switchport trunk allowed vlan 100\n",
    " switchport mode trunk\n",
    " duplex auto\n",
    " spanning-tree portfast edge trunk\n",
    "interface Ethernet0/2\n",
    " duplex auto\n",
    "interface Ethernet0/3\n",
    " switchport trunk encapsulation dot1q\n",
    " switchport trunk allowed vlan 100\n",
    " duplex auto\n",
    " switchport mode trunk\n",
    " spanning-tree portfast edge trunk\n",
    "...\n",
    "```"
   ]
  },
  {
   "cell_type": "code",
   "execution_count": 2,
   "metadata": {},
   "outputs": [
    {
     "name": "stdout",
     "output_type": "stream",
     "text": [
      "Current configuration : 2033 bytes\n",
      "version 15.0\n",
      "service timestamps debug datetime msec\n",
      "service timestamps log datetime msec\n",
      "no service password-encryption\n",
      "hostname sw1\n",
      "interface Ethernet0/0\n",
      " duplex auto\n",
      "interface Ethernet0/1\n",
      " switchport trunk encapsulation dot1q\n",
      " switchport trunk allowed vlan 100\n",
      " switchport mode trunk\n",
      " duplex auto\n",
      " spanning-tree portfast edge trunk\n",
      "interface Ethernet0/2\n",
      " duplex auto\n",
      "interface Ethernet0/3\n",
      " switchport trunk encapsulation dot1q\n",
      " switchport trunk allowed vlan 100\n",
      " duplex auto\n",
      " switchport mode trunk\n",
      " spanning-tree portfast edge trunk\n",
      "interface Ethernet1/0\n",
      " duplex auto\n",
      "interface Ethernet1/1\n",
      " duplex auto\n",
      "interface Ethernet1/2\n",
      " duplex auto\n",
      "interface Ethernet1/3\n",
      " duplex auto\n",
      "interface Vlan100\n",
      " ip address 10.0.100.1 255.255.255.0\n",
      "alias configure sh do sh\n",
      "alias exec ospf sh run | s ^router ospf\n",
      "alias exec bri show ip int bri | exc unass\n",
      "alias exec id show int desc\n",
      "alias exec top sh proc cpu sorted | excl 0.00%__0.00%__0.00%\n",
      "alias exec c conf t\n",
      "alias exec diff sh archive config differences nvram:startup-config system:running-config\n",
      "alias exec shcr sh run | s ^crypto\n",
      "alias exec desc sh int desc | ex down\n",
      "alias exec bgp sh run | s ^router bgp\n",
      "alias exec xc sh xconnect all\n",
      "alias exec vc sh mpls l2tr vc\n",
      "line con 0\n",
      " exec-timeout 0 0\n",
      " privilege level 15\n",
      " logging synchronous\n",
      "line aux 0\n",
      "line vty 0 4\n",
      " login\n",
      " transport input all\n",
      "end\n"
     ]
    }
   ],
   "source": [
    "file = open('config_sw1.txt')\n",
    "for line in file:\n",
    "    if line.startswith(\"!\"):\n",
    "        continue\n",
    "    else:\n",
    "        print(line.rstrip())"
   ]
  },
  {
   "cell_type": "markdown",
   "metadata": {},
   "source": [
    "## Задание 1.2a\n",
    "\n",
    "Сделать копию скрипта задания 1.2.\n",
    "\n",
    "Дополнить скрипт: Скрипт не должен выводить команды, в которых содержатся слова, которые указаны в списке `ignore`.\n",
    "\n",
    "При этом скрипт также не должен выводить строки, которые начинаются на `!`.\n",
    "\n",
    "Проверить работу скрипта на конфигурационном файле `config_sw1.txt`. Имя файла передается как аргумент скрипту."
   ]
  },
  {
   "cell_type": "code",
   "execution_count": 4,
   "metadata": {},
   "outputs": [
    {
     "name": "stdout",
     "output_type": "stream",
     "text": [
      "version 15.0\n",
      "service timestamps debug datetime msec\n",
      "service timestamps log datetime msec\n",
      "no service password-encryption\n",
      "hostname sw1\n",
      "interface Ethernet0/0\n",
      "interface Ethernet0/1\n",
      " switchport trunk encapsulation dot1q\n",
      " switchport trunk allowed vlan 100\n",
      " switchport mode trunk\n",
      " spanning-tree portfast edge trunk\n",
      "interface Ethernet0/2\n",
      "interface Ethernet0/3\n",
      " switchport trunk encapsulation dot1q\n",
      " switchport trunk allowed vlan 100\n",
      " switchport mode trunk\n",
      " spanning-tree portfast edge trunk\n",
      "interface Ethernet1/0\n",
      "interface Ethernet1/1\n",
      "interface Ethernet1/2\n",
      "interface Ethernet1/3\n",
      "interface Vlan100\n",
      " ip address 10.0.100.1 255.255.255.0\n",
      "line con 0\n",
      " exec-timeout 0 0\n",
      " privilege level 15\n",
      " logging synchronous\n",
      "line aux 0\n",
      "line vty 0 4\n",
      " login\n",
      " transport input all\n",
      "end\n"
     ]
    }
   ],
   "source": [
    "file = open('config_sw1.txt')\n",
    "ignore = [\"duplex\", \"alias\", \"configuration\"]\n",
    "for line in file:\n",
    "    if line.startswith(\"!\") or ignore[0] in line or ignore[1] in line or ignore[2] in line:\n",
    "        continue\n",
    "    else:\n",
    "        print(line.rstrip())"
   ]
  },
  {
   "cell_type": "markdown",
   "metadata": {},
   "source": [
    "## Задание 1.2b\n",
    "\n",
    "Переделать скрипт из задания 1.2a: вместо вывода на стандартный поток вывода, скрипт должен записать полученные строки в файл\n",
    "\n",
    "Имена файлов нужно передавать как аргументы скрипту:\n",
    "\n",
    "* имя исходного файла конфигурации\n",
    "* имя итогового файла конфигурации\n",
    "\n",
    "При этом, должны быть отфильтрованы строки, которые содержатся в списке `ignore` и строки, которые начинаются на `!`."
   ]
  },
  {
   "cell_type": "code",
   "execution_count": 21,
   "metadata": {},
   "outputs": [],
   "source": [
    "file = open('config_sw1.txt')\n",
    "result = open('result_1.2b.txt','w')\n",
    "ignore = [\"duplex\", \"alias\", \"configuration\"]\n",
    "for line in file:\n",
    "    if line.startswith(\"!\") or ignore[0] in line or ignore[1] in line or ignore[2] in line:\n",
    "        continue\n",
    "    else:\n",
    "        result.writelines(line.rstrip() + '\\n')"
   ]
  },
  {
   "cell_type": "markdown",
   "metadata": {},
   "source": [
    "## Задание 1.3\n",
    "\n",
    "Скрипт должен обрабатывать записи в файле `CAM_table.txt`. Каждая строка, где есть MAC-адрес, должна быть обработана таким образом, чтобы на стандартный поток вывода была выведена таблица вида:\n",
    "\n",
    "```\n",
    "100      01bb.c580.7000      Gi0/1\n",
    "200      0a4b.c380.7c00      Gi0/2\n",
    "300      a2ab.c5a0.700e      Gi0/3\n",
    "10       0a1b.1c80.7000      Gi0/4\n",
    "500      02b1.3c80.7b00      Gi0/5\n",
    "200      1a4b.c580.7000      Gi0/6\n",
    "300      0a1b.5c80.70f0      Gi0/7\n",
    "10       01ab.c5d0.70d0      Gi0/8\n",
    "1000     0a4b.c380.7d00      Gi0/9\n",
    "```"
   ]
  },
  {
   "cell_type": "code",
   "execution_count": 30,
   "metadata": {},
   "outputs": [
    {
     "name": "stdout",
     "output_type": "stream",
     "text": [
      "100      01bb.c580.7000      Gi0/1\n",
      "200      0a4b.c380.7c00      Gi0/2\n",
      "300      a2ab.c5a0.700e      Gi0/3\n",
      "10       0a1b.1c80.7000      Gi0/4\n",
      "500      02b1.3c80.7b00      Gi0/5\n",
      "200      1a4b.c580.7000      Gi0/6\n",
      "300      0a1b.5c80.70f0      Gi0/7\n",
      "10       01ab.c5d0.70d0      Gi0/8\n",
      "1000     0a4b.c380.7d00      Gi0/9\n"
     ]
    }
   ],
   "source": [
    "with open('CAM_table.txt') as f:\n",
    "     for line in f:\n",
    "        line = line.split()\n",
    "        if line and line[0].isdigit():\n",
    "            vlan, mac, Type,ports = line\n",
    "            print(f\"{vlan:9}{mac:20}{ports}\")"
   ]
  },
  {
   "cell_type": "markdown",
   "metadata": {},
   "source": [
    "## Задание 1.3a\n",
    "\n",
    "Сделать копию скрипта задания 1.3.\n",
    "\n",
    "Переделать скрипт: Отсортировать вывод по номеру VLAN В результате должен получиться такой вывод:\n",
    "\n",
    "```\n",
    "10       01ab.c5d0.70d0      Gi0/8\n",
    "10       0a1b.1c80.7000      Gi0/4\n",
    "100      01bb.c580.7000      Gi0/1\n",
    "200      0a4b.c380.7c00      Gi0/2\n",
    "200      1a4b.c580.7000      Gi0/6\n",
    "300      0a1b.5c80.70f0      Gi0/7\n",
    "300      a2ab.c5a0.700e      Gi0/3\n",
    "500      02b1.3c80.7b00      Gi0/5\n",
    "1000     0a4b.c380.7d00      Gi0/9\n",
    "```\n",
    "\n",
    "Обратите внимание на `vlan 1000` - он должен выводиться последним. Правильной сортировки можно добиться, если `vlan` будет числом, а не строкой."
   ]
  },
  {
   "cell_type": "code",
   "execution_count": 39,
   "metadata": {},
   "outputs": [
    {
     "name": "stdout",
     "output_type": "stream",
     "text": [
      "10       01ab.c5d0.70d0      Gi0/8\n",
      "10       0a1b.1c80.7000      Gi0/4\n",
      "100      01bb.c580.7000      Gi0/1\n",
      "200      0a4b.c380.7c00      Gi0/2\n",
      "200      1a4b.c580.7000      Gi0/6\n",
      "300      0a1b.5c80.70f0      Gi0/7\n",
      "300      a2ab.c5a0.700e      Gi0/3\n",
      "500      02b1.3c80.7b00      Gi0/5\n",
      "1000     0a4b.c380.7d00      Gi0/9\n"
     ]
    }
   ],
   "source": [
    "a = [] \n",
    "with open('CAM_table.txt') as f:\n",
    "     for line in f:\n",
    "        line = line.split()\n",
    "        if line and line[0].isdigit():\n",
    "            vlan, mac, Type,ports = line\n",
    "            a.append([int(vlan),mac,ports])\n",
    "            a.sort()\n",
    "for vlan, mac, ports in a:\n",
    "    print(f\"{vlan:<9}{mac:20}{ports}\")"
   ]
  },
  {
   "cell_type": "markdown",
   "metadata": {},
   "source": [
    "## Задание 1.3b\n",
    "\n",
    "Сделать копию скрипта задания 1.3a.\n",
    "\n",
    "Переделать скрипт:\n",
    "\n",
    "* Запросить у пользователя ввод номера VLAN.\n",
    "* Выводить информацию только по указанному VLAN.\n",
    "\n",
    "Пример работы скрипта:\n",
    "\n",
    "```\n",
    "Enter VLAN number: 10\n",
    "10       0a1b.1c80.7000      Gi0/4\n",
    "10       01ab.c5d0.70d0      Gi0/8\n",
    "```"
   ]
  },
  {
   "cell_type": "code",
   "execution_count": 25,
   "metadata": {},
   "outputs": [
    {
     "name": "stdout",
     "output_type": "stream",
     "text": [
      "Enter VLAN number: 100\n",
      "100      01bb.c580.7000      Gi0/1\n"
     ]
    }
   ],
   "source": [
    "a = []\n",
    "Vlan = input('Enter VLAN number: ')\n",
    "with open('CAM_table.txt') as f:\n",
    "     for line in f:\n",
    "        line = line.split()\n",
    "        if line and line[0].isdigit():\n",
    "            vlan, mac, Type, ports = line\n",
    "            if vlan == Vlan:\n",
    "                print(f\"{vlan:<9}{mac:20}{ports}\")"
   ]
  }
 ],
 "metadata": {
  "interpreter": {
   "hash": "0f0c5c39fa29d36bc79ea6ed5e0017f27e24d360b7a5ba6327ff3404d1cbbfbc"
  },
  "kernelspec": {
   "display_name": "Python 3 (ipykernel)",
   "language": "python",
   "name": "python3"
  },
  "language_info": {
   "codemirror_mode": {
    "name": "ipython",
    "version": 3
   },
   "file_extension": ".py",
   "mimetype": "text/x-python",
   "name": "python",
   "nbconvert_exporter": "python",
   "pygments_lexer": "ipython3",
   "version": "3.9.13"
  }
 },
 "nbformat": 4,
 "nbformat_minor": 2
}
