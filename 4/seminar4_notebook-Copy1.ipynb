{
 "cells": [
  {
   "cell_type": "markdown",
   "metadata": {},
   "source": [
    "# Практическое занятие 4. Основы работы с функциями\n",
    "\n",
    "> Перед выполнением задания скопировать себе данный файл и переименовать его в свои ФИО. Все задания выполнять в скопированном notebook'е в блоках с кодом. Конечный файл должен быть сохранен со всеми выполненными блоками кода."
   ]
  },
  {
   "cell_type": "markdown",
   "metadata": {},
   "source": [
    "## Задание 1.1\n",
    "\n",
    "Создать функцию, которая генерирует конфигурацию для access-портов.\n",
    "\n",
    "Функция ожидает такие аргументы:\n",
    "\n",
    "словарь с соответствием интерфейс-VLAN такого вида:\n",
    "```py\n",
    "{\"FastEthernet0/12\": 10,\n",
    " \"FastEthernet0/14\": 11,\n",
    " \"FastEthernet0/16\": 17}\n",
    "```\n",
    "шаблон конфигурации access-портов в виде списка команд (список `access_mode_template`)\n",
    "Функция должна возвращать список всех портов в режиме `access` с конфигурацией на основе шаблона `access_mode_template`. В конце строк в списке не должно быть символа перевода строки.\n",
    "\n",
    "В этом задании заготовка для функции уже сделана и надо только продолжить писать само тело функции.\n",
    "\n",
    "Пример итогового списка (перевод строки после каждого элемента сделан для удобства чтения):\n",
    "\n",
    "```py\n",
    "[\n",
    "\"interface FastEthernet0/12\",\n",
    "\"switchport mode access\",\n",
    "\"switchport access vlan 10\",\n",
    "\"switchport nonegotiate\",\n",
    "\"spanning-tree portfast\",\n",
    "\"spanning-tree bpduguard enable\",\n",
    "\"interface FastEthernet0/17\",\n",
    "\"switchport mode access\",\n",
    "\"switchport access vlan 150\",\n",
    "\"switchport nonegotiate\",\n",
    "\"spanning-tree portfast\",\n",
    "\"spanning-tree bpduguard enable\",\n",
    "...]\n",
    "```\n",
    "Проверить работу функции на примере словаря `access_config` и списка команд `access_mode_template`. Если предыдущая проверка прошла успешно, проверить работу функции еще раз на словаре `access_config_2` и убедиться, что в итоговом списке правильные номера интерфейсов и вланов."
   ]
  },
  {
   "cell_type": "code",
   "execution_count": 90,
   "metadata": {},
   "outputs": [
    {
     "name": "stdout",
     "output_type": "stream",
     "text": [
      "['interface FastEthernet0/12', 'switchport mode access', 'switchport access vlan 10', 'switchport nonegotiate', 'spanning-tree portfast', 'spanning-tree bpduguard enable', 'interface FastEthernet0/14', 'switchport mode access', 'switchport access vlan 11', 'switchport nonegotiate', 'spanning-tree portfast', 'spanning-tree bpduguard enable', 'interface FastEthernet0/16', 'switchport mode access', 'switchport access vlan 17', 'switchport nonegotiate', 'spanning-tree portfast', 'spanning-tree bpduguard enable']\n",
      "['interface FastEthernet0/03', 'switchport mode access', 'switchport access vlan 100', 'switchport nonegotiate', 'spanning-tree portfast', 'spanning-tree bpduguard enable', 'interface FastEthernet0/07', 'switchport mode access', 'switchport access vlan 101', 'switchport nonegotiate', 'spanning-tree portfast', 'spanning-tree bpduguard enable', 'interface FastEthernet0/09', 'switchport mode access', 'switchport access vlan 107', 'switchport nonegotiate', 'spanning-tree portfast', 'spanning-tree bpduguard enable']\n"
     ]
    }
   ],
   "source": [
    "access_mode_template = [\n",
    "    \"switchport mode access\", \"switchport access vlan\",\n",
    "    \"switchport nonegotiate\", \"spanning-tree portfast\",\n",
    "    \"spanning-tree bpduguard enable\"\n",
    "]\n",
    "\n",
    "access_config = {\n",
    "    \"FastEthernet0/12\": 10,\n",
    "    \"FastEthernet0/14\": 11,\n",
    "    \"FastEthernet0/16\": 17\n",
    "}\n",
    "\n",
    "access_config_2 = {\n",
    "    \"FastEthernet0/03\": 100,\n",
    "    \"FastEthernet0/07\": 101,\n",
    "    \"FastEthernet0/09\": 107,\n",
    "}   \n",
    "\n",
    "def generate_access_config(intf_vlan_mapping, access_template):\n",
    "    \"\"\"\n",
    "intf_vlan_mapping - словарь с соответствием интерфейс-VLAN такого вида:\n",
    "{\"FastEthernet0/12\": 10,\n",
    "\"FastEthernet0/14\": 11,\n",
    "\"FastEthernet0/16\": 17}\n",
    "access_template - список команд для порта в режиме access\n",
    "    Возвращает список всех портов в режиме access с конфигурацией на основе шаблона\n",
    "\"\"\"\n",
    "    result = []\n",
    "    for line, vlan in intf_vlan_mapping.items():\n",
    "        intf = \"interface {}\".format(line)\n",
    "        result.append(intf)\n",
    "        for i in access_template:\n",
    "            if \"vlan\" in i:\n",
    "                result.append(\"{} {}\".format(i,vlan))\n",
    "            else:\n",
    "                result.append(\"{}\".format(i))\n",
    "    return result\n",
    "print(generate_access_config(access_config, access_mode_template))\n",
    "print(generate_access_config(access_config_2, access_mode_template))"
   ]
  },
  {
   "cell_type": "markdown",
   "metadata": {},
   "source": [
    "## Задание 1.1a\n",
    "\n",
    "Сделать копию функции `generate_access_config` из задания 1.1.\n",
    "\n",
    "Дополнить скрипт: ввести дополнительный параметр, который контролирует будет ли настроен `port-security`:\n",
    "\n",
    "* имя параметра `psecurity`\n",
    "* по умолчанию значение `None`\n",
    "* для настройки `port-security`, как значение надо передать список команд `port-security` (находятся в списке `port_security_template`)\n",
    "\n",
    "Функция должна возвращать список всех портов в режиме `access` с конфигурацией на основе шаблона `access_mode_template` и шаблона `port_security_template`, если он был передан. В конце строк в списке не должно быть символа перевода строки.\n",
    "\n",
    "Проверить работу функции на примере словаря `access_config`, с генерацией конфигурации `port-security` и без.\n",
    "\n",
    "Пример вызова функции:\n",
    "\n",
    "```py\n",
    "print(generate_access_config(access_config, access_mode_template))\n",
    "print(generate_access_config(access_config, access_mode_template, port_security_template))\n",
    "```"
   ]
  },
  {
   "cell_type": "code",
   "execution_count": 99,
   "metadata": {},
   "outputs": [
    {
     "name": "stdout",
     "output_type": "stream",
     "text": [
      "['interface FastEthernet0/12', 'switchport mode access', 'switchport access vlan 10', 'switchport nonegotiate', 'spanning-tree portfast', 'spanning-tree bpduguard enable', 'interface FastEthernet0/14', 'switchport mode access', 'switchport access vlan 11', 'switchport nonegotiate', 'spanning-tree portfast', 'spanning-tree bpduguard enable', 'interface FastEthernet0/16', 'switchport mode access', 'switchport access vlan 17', 'switchport nonegotiate', 'spanning-tree portfast', 'spanning-tree bpduguard enable']\n",
      "['interface FastEthernet0/12', 'switchport mode access', 'switchport access vlan 10', 'switchport nonegotiate', 'spanning-tree portfast', 'spanning-tree bpduguard enable', 'switchport port-security maximum 2', 'switchport port-security violation restrict', 'switchport port-security', 'interface FastEthernet0/14', 'switchport mode access', 'switchport access vlan 11', 'switchport nonegotiate', 'spanning-tree portfast', 'spanning-tree bpduguard enable', 'switchport port-security maximum 2', 'switchport port-security violation restrict', 'switchport port-security', 'interface FastEthernet0/16', 'switchport mode access', 'switchport access vlan 17', 'switchport nonegotiate', 'spanning-tree portfast', 'spanning-tree bpduguard enable', 'switchport port-security maximum 2', 'switchport port-security violation restrict', 'switchport port-security']\n"
     ]
    }
   ],
   "source": [
    "access_mode_template = [\n",
    "    \"switchport mode access\", \"switchport access vlan\",\n",
    "    \"switchport nonegotiate\", \"spanning-tree portfast\",\n",
    "    \"spanning-tree bpduguard enable\"\n",
    "]\n",
    "\n",
    "port_security_template = [\n",
    "    \"switchport port-security maximum 2\",\n",
    "    \"switchport port-security violation restrict\",\n",
    "    \"switchport port-security\"\n",
    "]\n",
    "\n",
    "access_config = {\"FastEthernet0/12\": 10, \"FastEthernet0/14\": 11, \"FastEthernet0/16\": 17}\n",
    "def generate_access_config(intf_vlan_mapping, access_template, psecurity = None):\n",
    "    result = []\n",
    "    for line, vlan in intf_vlan_mapping.items():\n",
    "        intf = 'interface {}'.format(line)\n",
    "        result.append(intf)\n",
    "        for i in access_mode_template:\n",
    "            if 'vlan' in i:\n",
    "                result.append(\"{} {}\".format(i,vlan))\n",
    "            else:\n",
    "                result.append(\"{}\".format(i))\n",
    "        if psecurity != None:\n",
    "            result.extend(port_security_template)\n",
    "    return result\n",
    "print(generate_access_config(access_config, access_mode_template))\n",
    "print(generate_access_config(access_config, access_mode_template, port_security_template))"
   ]
  },
  {
   "cell_type": "markdown",
   "metadata": {},
   "source": [
    "## Задание 1.2\n",
    "\n",
    "Создать функцию `generate_trunk_config`, которая генерирует конфигурацию для trunk-портов.\n",
    "\n",
    "У функции должны быть такие параметры:\n",
    "\n",
    "1. `intf_vlan_mapping`: ожидает как аргумент словарь с соответствием интерфейс-VLANы такого вида:\n",
    "\n",
    "```py\n",
    "{\"FastEthernet0/1\": [10, 20],\n",
    " \"FastEthernet0/2\": [11, 30],\n",
    " \"FastEthernet0/4\": [17]}\n",
    "```\n",
    "\n",
    "2. `trunk_template`: ожидает как аргумент шаблон конфигурации trunk-портов в виде списка команд (список `trunk_mode_template`)\n",
    "Функция должна возвращать список команд с конфигурацией на основе указанных портов и шаблона `trunk_mode_template`. В конце строк в списке не должно быть символа перевода строки.\n",
    "\n",
    "Проверить работу функции на примере словаря `trunk_config` и списка команд `trunk_mode_template`. Если эта проверка прошла успешно, проверить работу функции еще раз на словаре `trunk_config_2` и убедится, что в итоговом списке правильные номера интерфейсов и вланов.\n",
    "\n",
    "Пример итогового списка (перевод строки после каждого элемента сделан для удобства чтения):\n",
    "\n",
    "```py\n",
    "[\n",
    "\"interface FastEthernet0/1\",\n",
    "\"switchport mode trunk\",\n",
    "\"switchport trunk native vlan 999\",\n",
    "\"switchport trunk allowed vlan 10,20,30\",\n",
    "\"interface FastEthernet0/2\",\n",
    "\"switchport mode trunk\",\n",
    "\"switchport trunk native vlan 999\",\n",
    "\"switchport trunk allowed vlan 11,30\",\n",
    "...]\n",
    "```"
   ]
  },
  {
   "cell_type": "code",
   "execution_count": 22,
   "metadata": {},
   "outputs": [
    {
     "name": "stdout",
     "output_type": "stream",
     "text": [
      "['interface FastEthernet0/1', 'switchport mode trunk', 'switchport trunk native vlan 999', 'switchport trunk allowed vlan 10, 20, 30', 'interface FastEthernet0/2', 'switchport mode trunk', 'switchport trunk native vlan 999', 'switchport trunk allowed vlan 11, 30', 'interface FastEthernet0/4', 'switchport mode trunk', 'switchport trunk native vlan 999', 'switchport trunk allowed vlan 17']\n",
      "['interface FastEthernet0/03', 'switchport mode trunk', 'switchport trunk native vlan 999', 'switchport trunk allowed vlan 100', 'interface FastEthernet0/07', 'switchport mode trunk', 'switchport trunk native vlan 999', 'switchport trunk allowed vlan 101', 'interface FastEthernet0/09', 'switchport mode trunk', 'switchport trunk native vlan 999', 'switchport trunk allowed vlan 107']\n"
     ]
    }
   ],
   "source": [
    "trunk_mode_template = [\n",
    "    \"switchport mode trunk\", \"switchport trunk native vlan 999\",\n",
    "    \"switchport trunk allowed vlan\"\n",
    "]\n",
    "\n",
    "trunk_config = {\n",
    "    \"FastEthernet0/1\": [10, 20, 30],\n",
    "    \"FastEthernet0/2\": [11, 30],\n",
    "    \"FastEthernet0/4\": [17]\n",
    "}\n",
    "trunk_config_2 = {\n",
    "    \"FastEthernet0/03\": 100,\n",
    "    \"FastEthernet0/07\": 101,\n",
    "    \"FastEthernet0/09\": 107,\n",
    "}   \n",
    "def generate_trunk_config(intf_vlan_mapping, trunk_template):\n",
    "    result = []\n",
    "    for line, vlan in intf_vlan_mapping.items():\n",
    "        intf = \"interface {}\".format(line)\n",
    "        result.append(intf)\n",
    "        for i in trunk_template:\n",
    "            if \"allowed vlan\" in i:\n",
    "                vlan = str(vlan)\n",
    "                vlan = vlan.strip('[]')\n",
    "                result.append(\"{} {}\".format(i,vlan))\n",
    "            else:\n",
    "                result.append(\"{}\".format(i))\n",
    "    return result\n",
    "print(generate_trunk_config(trunk_config, trunk_mode_template))\n",
    "print(generate_trunk_config(trunk_config_2, trunk_mode_template))"
   ]
  },
  {
   "cell_type": "markdown",
   "metadata": {},
   "source": [
    "## Задание 1.2a\n",
    "\n",
    "Сделать копию функции `generate_trunk_config` из задания 1.2\n",
    "\n",
    "Изменить функцию таким образом, чтобы она возвращала не список команд, а словарь:\n",
    "\n",
    "* ключи: имена интерфейсов, вида «FastEthernet0/1»\n",
    "* значения: список команд, который надо выполнить на этом интерфейсе\n",
    "\n",
    "Проверить работу функции на примере словаря `trunk_config` и шаблона `trunk_mode_template`."
   ]
  },
  {
   "cell_type": "code",
   "execution_count": 25,
   "metadata": {},
   "outputs": [
    {
     "name": "stdout",
     "output_type": "stream",
     "text": [
      "{'FastEthernet0/1': ['switchport mode trunk', 'switchport trunk native vlan 999', 'switchport trunk allowed vlan 10, 20, 30'], 'FastEthernet0/2': ['switchport mode trunk', 'switchport trunk native vlan 999', 'switchport trunk allowed vlan 11, 30'], 'FastEthernet0/4': ['switchport mode trunk', 'switchport trunk native vlan 999', 'switchport trunk allowed vlan 17']}\n"
     ]
    }
   ],
   "source": [
    "trunk_mode_template = [\n",
    "    \"switchport mode trunk\", \"switchport trunk native vlan 999\",\n",
    "    \"switchport trunk allowed vlan\"\n",
    "]\n",
    "\n",
    "trunk_config = {\n",
    "    \"FastEthernet0/1\": [10, 20, 30],\n",
    "    \"FastEthernet0/2\": [11, 30],\n",
    "    \"FastEthernet0/4\": [17]\n",
    "}\n",
    "def generate_trunk_config(intf_vlan_mapping, trunk_template):\n",
    "    result = {}\n",
    "    for line, vlan in intf_vlan_mapping.items():\n",
    "        result[line] =[]\n",
    "        for i in trunk_template:\n",
    "            if \"allowed vlan\" in i:\n",
    "                vlan = str(vlan)\n",
    "                vlan = vlan.strip('[]')\n",
    "                result[line].append(\"{} {}\".format(i,vlan))\n",
    "            else:\n",
    "                result[line].append(\"{}\".format(i))\n",
    "    return result\n",
    "print(generate_trunk_config(trunk_config, trunk_mode_template))"
   ]
  },
  {
   "cell_type": "markdown",
   "metadata": {},
   "source": [
    "## Задание 1.3\n",
    "\n",
    "Создать функцию `get_int_vlan_map`, которая обрабатывает конфигурационный файл коммутатора и возвращает кортеж из двух словарей:\n",
    "\n",
    "1. словарь портов в режиме access, где ключи номера портов, а значения access VLAN (числа):\n",
    "\n",
    "```py\n",
    "{\"FastEthernet0/12\": 10,\n",
    " \"FastEthernet0/14\": 11,\n",
    " \"FastEthernet0/16\": 17}\n",
    "```\n",
    "\n",
    "2. словарь портов в режиме trunk, где ключи номера портов, а значения список разрешенных VLAN (список чисел)\n",
    "\n",
    "У функции должен быть один параметр `config_filename`, который ожидает как аргумент имя конфигурационного файла.\n",
    "\n",
    "Проверить работу функции на примере файла `config_sw1.txt`"
   ]
  },
  {
   "cell_type": "code",
   "execution_count": 44,
   "metadata": {},
   "outputs": [
    {
     "data": {
      "text/plain": [
       "({'FastEthernet0/0': '10',\n",
       "  'FastEthernet0/2': '20',\n",
       "  'FastEthernet1/0': '20',\n",
       "  'FastEthernet1/1': '30'},\n",
       " {'FastEthernet0/1': '100,200',\n",
       "  'FastEthernet0/3': '100,300,400,500,600',\n",
       "  'FastEthernet1/2': '400,500,600'})"
      ]
     },
     "execution_count": 44,
     "metadata": {},
     "output_type": "execute_result"
    }
   ],
   "source": [
    "def get_int_vlan_map(config_filename):\n",
    "    with open (config_filename) as file:\n",
    "        access_port = {}\n",
    "        trunk_port = {}\n",
    "        for line in file:\n",
    "            if 'Fast' in line:\n",
    "                intf = line.split()\n",
    "                intf = intf[-1]\n",
    "            elif 'access vlan' in line:\n",
    "                acc_vlan = line.split()[-1]\n",
    "                access_port[intf] = acc_vlan\n",
    "            elif 'trunk allowed vlan' in line:\n",
    "                trunk_vlan = line.split()[-1]\n",
    "                trunk_port[intf] = trunk_vlan\n",
    "            else:\n",
    "                continue\n",
    "        return access_port, trunk_port\n",
    "get_int_vlan_map('config_sw1.txt')"
   ]
  },
  {
   "cell_type": "markdown",
   "metadata": {},
   "source": [
    "## Задание 1.3a\n",
    "\n",
    "Сделать копию функции `get_int_vlan_map` из задания 1.3.\n",
    "\n",
    "Дополнить функцию: добавить поддержку конфигурации, когда настройка access-порта выглядит так:\n",
    "\n",
    "```\n",
    "interface FastEthernet0/20\n",
    " switchport mode access\n",
    " duplex auto\n",
    "```\n",
    "\n",
    "То есть, порт находится в VLAN 1\n",
    "\n",
    "В таком случае, в словарь портов должна добавляться информация, что порт в VLAN 1\n",
    "\n",
    "У функции должен быть один параметр `config_filename`, который ожидает как аргумент имя конфигурационного файла.\n",
    "\n",
    "Проверить работу функции на примере файла `config_sw2.txt`"
   ]
  },
  {
   "cell_type": "code",
   "execution_count": 31,
   "metadata": {},
   "outputs": [
    {
     "data": {
      "text/plain": [
       "({'FastEthernet0/0': '10',\n",
       "  'FastEthernet0/2': '20',\n",
       "  'FastEthernet1/0': '20',\n",
       "  'FastEthernet1/1': '30',\n",
       "  'FastEthernet1/3': '1',\n",
       "  'FastEthernet2/0': '1',\n",
       "  'FastEthernet2/1': '1'},\n",
       " {'FastEthernet0/1': '100,200',\n",
       "  'FastEthernet0/3': '100,300,400,500,600',\n",
       "  'FastEthernet1/2': '400,500,600'})"
      ]
     },
     "execution_count": 31,
     "metadata": {},
     "output_type": "execute_result"
    }
   ],
   "source": [
    "def get_int_vlan_map(config_filename):\n",
    "    with open (config_filename) as file:\n",
    "        access_port = {}\n",
    "        trunk_port = {}\n",
    "        configuration = True\n",
    "        for line in file:\n",
    "            if 'Fast' in line:\n",
    "                intf = line.split()\n",
    "                intf = intf[-1]\n",
    "                line = file.readline() # Переходим на след строку\n",
    "                if line.find('mode access') != -1: # Проверяем, есть ли на след. строке 'mode access'\n",
    "                    line = file.readline()\n",
    "                    acc_vlan = line.split()[-1]\n",
    "                    if acc_vlan.isdigit():\n",
    "                        access_port[intf] = acc_vlan\n",
    "                    else:\n",
    "                        access_port[intf] = '1'\n",
    "            elif 'trunk allowed vlan' in line:\n",
    "                trunk_vlan = line.split()[-1]\n",
    "                trunk_port[intf] = trunk_vlan\n",
    "            else:\n",
    "                continue\n",
    "        return access_port, trunk_port\n",
    "get_int_vlan_map('config_sw2.txt')"
   ]
  },
  {
   "cell_type": "markdown",
   "metadata": {},
   "source": [
    "## Задание 1.4\n",
    "\n",
    "Создать функцию `convert_config_to_dict`, которая обрабатывает конфигурационный файл коммутатора и возвращает словарь:\n",
    "\n",
    "* Все команды верхнего уровня (глобального режима конфигурации), будут ключами.\n",
    "* Если у команды верхнего уровня есть подкоманды, они должны быть в значении у соответствующего ключа, в виде списка (пробелы в начале строки надо удалить).\n",
    "* Если у команды верхнего уровня нет подкоманд, то значение будет пустым списком\n",
    "\n",
    "У функции должен быть один параметр `config_filename`, который ожидает как аргумент имя конфигурационного файла.\n",
    "\n",
    "При обработке конфигурационного файла, надо игнорировать строки, которые начинаются с «!», а также строки в которых содержатся слова из списка `ignore`. Для проверки надо ли игнорировать строку, использовать функцию `ignore_command`.\n",
    "\n",
    "Проверить работу функции на примере файла `config_r1.txt`\n",
    "\n",
    "Часть словаря, который должна возвращать функция:\n",
    "\n",
    "{\n",
    "    \"version 15.0\": [],\n",
    "    \"service timestamps debug datetime msec\": [],\n",
    "    \"service timestamps log datetime msec\": [],\n",
    "    \"no service password-encryption\": [],\n",
    "    \"hostname sw1\": [],\n",
    "    \"interface FastEthernet0/0\": [\n",
    "        \"switchport mode access\",\n",
    "        \"switchport access vlan 10\",\n",
    "    ],\n",
    "    \"interface FastEthernet0/1\": [\n",
    "        \"switchport trunk encapsulation dot1q\",\n",
    "        \"switchport trunk allowed vlan 100,200\",\n",
    "        \"switchport mode trunk\",\n",
    "    ],\n",
    "    \"interface FastEthernet0/2\": [\n",
    "        \"switchport mode access\",\n",
    "        \"switchport access vlan 20\",\n",
    "    ],\n",
    "}"
   ]
  },
  {
   "cell_type": "code",
   "execution_count": 41,
   "metadata": {},
   "outputs": [
    {
     "name": "stdout",
     "output_type": "stream",
     "text": [
      "{'version 15.0': [], 'service timestamps debug datetime msec': [], 'service timestamps log datetime msec': [], 'no service password-encryption': [], 'hostname sw1': [], 'interface FastEthernet0/0': ['switchport mode access', 'switchport access vlan 10'], 'interface FastEthernet0/1': ['switchport trunk encapsulation dot1q', 'switchport trunk allowed vlan 100,200', 'switchport mode trunk'], 'interface FastEthernet0/2': ['switchport mode access', 'switchport access vlan 20'], 'interface FastEthernet0/3': ['switchport trunk encapsulation dot1q', 'switchport trunk allowed vlan 100,300,400,500,600', 'switchport mode trunk'], 'interface FastEthernet1/0': ['switchport mode access', 'switchport access vlan 20'], 'interface FastEthernet1/1': ['switchport mode access', 'switchport access vlan 30'], 'interface FastEthernet1/2': ['switchport trunk encapsulation dot1q', 'switchport trunk allowed vlan 400,500,600', 'switchport mode trunk'], 'interface FastEthernet1/3': [], 'interface Vlan100': ['ip address 10.0.100.1 255.255.255.0'], 'line con 0': ['exec-timeout 0 0', 'privilege level 15', 'logging synchronous'], 'line aux 0': [], 'line vty 0 4': ['login', 'transport input all'], 'end': []}\n",
      "{'version 15.2': [], 'no service timestamps debug uptime': [], 'no service timestamps log uptime': [], 'no service password-encryption': [], 'hostname PE_r1': [], 'boot-start-marker': [], 'boot-end-marker': [], 'logging buffered 50000': [], 'no aaa new-model': [], 'mmi polling-interval 60': [], 'no mmi auto-configure': [], 'no mmi pvc': [], 'mmi snmp-timeout 180': [], 'ip auth-proxy max-login-attempts 5': [], 'ip admission max-login-attempts 5': [], 'no ip domain lookup': [], 'ip cef': [], 'no ipv6 cef': [], 'multilink bundle-name authenticated': [], 'mpls label range 1000 1999': [], 'mpls label protocol ldp': [], 'mpls ldp explicit-null': [], 'mpls ldp discovery targeted-hello accept': [], 'mpls traffic-eng tunnels': [], 'xconnect logging redundancy': [], 'interface Loopback0': ['ip address 10.1.1.1 255.255.255.255'], 'interface Tunnel0': ['ip unnumbered Loopback0', 'tunnel mode mpls traffic-eng', 'tunnel destination 10.2.2.2', 'tunnel mpls traffic-eng priority 7 7', 'tunnel mpls traffic-eng bandwidth 5000', 'tunnel mpls traffic-eng path-option 10 dynamic', 'no routing dynamic'], 'interface Ethernet0/0': ['description To PE_r3 Ethernet0/0', 'bandwidth 100000', 'ip address 10.0.13.1 255.255.255.0', 'mpls traffic-eng tunnels', 'ip rsvp bandwidth 100000 10000'], 'interface Ethernet0/1': ['no ip address'], 'interface Ethernet0/2': ['description To P_r9 Ethernet0/2', 'ip address 10.0.19.1 255.255.255.0', 'mpls traffic-eng tunnels', 'ip rsvp bandwidth'], 'interface Ethernet0/3': ['description To sw1 Ethernet0/3', 'no ip address'], 'interface Ethernet0/3.100': ['encapsulation dot1Q 100', 'xconnect 10.2.2.2 12100 encapsulation mpls', 'backup peer 10.4.4.4 14100', 'backup delay 1 1'], 'interface Ethernet1/0': ['no ip address', 'shutdown'], 'router ospf 1': ['mpls ldp autoconfig area 0', 'mpls traffic-eng router-id Loopback0', 'mpls traffic-eng area 0', 'network 10.0.0.0 0.255.255.255 area 0'], 'router bgp 100': ['bgp log-neighbor-changes', 'bgp bestpath igp-metric ignore', 'neighbor 10.2.2.2 remote-as 100', 'neighbor 10.2.2.2 update-source Loopback0', 'neighbor 10.2.2.2 next-hop-self', 'neighbor 10.4.4.4 remote-as 40', 'address-family vpnv4', 'neighbor 10.2.2.2 activate', 'neighbor 10.2.2.2 send-community both', 'exit-address-family'], 'ip forward-protocol nd': [], 'no ip http server': [], 'no ip http secure-server': [], 'ip route 10.2.2.2 255.255.255.255 Tunnel0': [], 'ip access-list standard LDP': ['deny   10.0.0.0 0.0.255.255', 'permit 10.0.0.0 0.255.255.255'], 'ip prefix-list TEST seq 5 permit 10.6.6.6/32': [], 'mpls ldp router-id Loopback0 force': [], 'control-plane': [], 'line con 0': ['exec-timeout 0 0', 'privilege level 15', 'logging synchronous'], 'line aux 0': [], 'line vty 0 4': ['login', 'transport input all'], 'event manager applet update-int-desc': ['event neighbor-discovery interface regexp .*Ethernet.* cdp add', 'action 1.0 cli command \"enable\"', 'action 2.0 cli command \"config t\"', 'action 3.0 cli command \"interface $_nd_local_intf_name\"', 'action 4.0 cli command \"description To $_nd_cdp_entry_name $_nd_port_id\"', 'action 5.0 syslog msg \"Description for $_nd_local_intf_name changed to $_nd_cdp_entry_name $_nd_port_id\"', 'action 6.0 cli command \"end\"', 'action 7.0 cli command \"exit\"'], 'end': []}\n"
     ]
    }
   ],
   "source": [
    "ignore = [\"duplex\", \"alias\", \"Current configuration\"]\n",
    "\n",
    "def ignore_command(command, ignore):\n",
    "    ignore_status = False\n",
    "    for word in ignore:\n",
    "        if word in command:\n",
    "            ignore_status = True\n",
    "    return ignore_status\n",
    "def convert_config_to_dict(config_filename):\n",
    "    config_dict = {}\n",
    "    with open(config_filename) as file:\n",
    "        for line in file:\n",
    "            if ignore_command(line, ignore) or line.find('!') != -1:\n",
    "                pass\n",
    "            else:\n",
    "                if not line.startswith(' '):\n",
    "                    key = line.strip()\n",
    "                    config_dict[key] = []\n",
    "                else:\n",
    "                    config_dict[key].append(line.strip())\n",
    "    return config_dict\n",
    "print(convert_config_to_dict('config_sw1.txt'))\n",
    "print(convert_config_to_dict('config_r1.txt'))"
   ]
  }
 ],
 "metadata": {
  "interpreter": {
   "hash": "0f0c5c39fa29d36bc79ea6ed5e0017f27e24d360b7a5ba6327ff3404d1cbbfbc"
  },
  "kernelspec": {
   "display_name": "Python 3 (ipykernel)",
   "language": "python",
   "name": "python3"
  },
  "language_info": {
   "codemirror_mode": {
    "name": "ipython",
    "version": 3
   },
   "file_extension": ".py",
   "mimetype": "text/x-python",
   "name": "python",
   "nbconvert_exporter": "python",
   "pygments_lexer": "ipython3",
   "version": "3.9.13"
  }
 },
 "nbformat": 4,
 "nbformat_minor": 2
}
