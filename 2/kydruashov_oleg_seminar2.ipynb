{
 "cells": [
  {
   "cell_type": "markdown",
   "metadata": {},
   "source": [
    "# Практическое занятие 2. Создание базовых скриптов.\n",
    "\n",
    "> Перед выполнением задания скопировать себе данный файл и переименовать его в свои ФИО. Все задания выполнять в скопированном notebook'е в блоках с кодом. Конечный файл должен быть сохранен со всеми выполненными блоками кода."
   ]
  },
  {
   "cell_type": "markdown",
   "metadata": {},
   "source": [
    "## Задание 1.1\n",
    "\n",
    "В задании приведен словарь, с информацией о разных устройствах.\n",
    "\n",
    "Необходимо запросить у пользователя ввод имени устройства (r1, r2 или sw1). И вывести информацию о соответствующем устройстве на стандартный поток вывода (информация будет в виде словаря).\n",
    "\n",
    "Пример выполнения скрипта:\n",
    "\n",
    "```\n",
    "$ python task_1_1.py\n",
    "Введите имя устройства: r1\n",
    "{'location': '21 New Globe Walk', 'vendor': 'Cisco', 'model': '4451', 'ios': '15.4', 'ip': '10.255.0.1'}\n",
    "```\n",
    "\n",
    "Ограничение: нельзя изменять словарь london_co. "
   ]
  },
  {
   "cell_type": "code",
   "execution_count": 1,
   "metadata": {},
   "outputs": [
    {
     "name": "stdout",
     "output_type": "stream",
     "text": [
      "Введите имя устройства: r1\n",
      "{'location': '21 New Globe Walk', 'vendor': 'Cisco', 'model': '4451', 'ios': '15.4', 'ip': '10.255.0.1'}\n"
     ]
    }
   ],
   "source": [
    "london_co = {\n",
    "    \"r1\": {\n",
    "        \"location\": \"21 New Globe Walk\",\n",
    "        \"vendor\": \"Cisco\",\n",
    "        \"model\": \"4451\",\n",
    "        \"ios\": \"15.4\",\n",
    "        \"ip\": \"10.255.0.1\"\n",
    "    },\n",
    "    \"r2\": {\n",
    "        \"location\": \"21 New Globe Walk\",\n",
    "        \"vendor\": \"Cisco\",\n",
    "        \"model\": \"4451\",\n",
    "        \"ios\": \"15.4\",\n",
    "        \"ip\": \"10.255.0.2\"\n",
    "    },\n",
    "    \"sw1\": {\n",
    "        \"location\": \"21 New Globe Walk\",\n",
    "        \"vendor\": \"Cisco\",\n",
    "        \"model\": \"3850\",\n",
    "        \"ios\": \"3.6.XE\",\n",
    "        \"ip\": \"10.255.0.101\",\n",
    "        \"vlans\": \"10,20,30\",\n",
    "        \"routing\": True\n",
    "    }\n",
    "}\n",
    "vvod = input('Введите имя устройства: ')\n",
    "print(london_co[vvod])"
   ]
  },
  {
   "cell_type": "markdown",
   "metadata": {},
   "source": [
    "## Задание 1.1a\n",
    "\n",
    "Переделать скрипт из задания 1.1 таким образом, чтобы, кроме имени устройства, запрашивался также параметр устройства, который нужно отобразить.\n",
    "\n",
    "Вывести информацию о соответствующем параметре, указанного устройства.\n",
    "\n",
    "Пример выполнения скрипта:\n",
    "\n",
    "```\n",
    "$ python task_1_1a.py\n",
    "Введите имя устройства: r1\n",
    "Введите имя параметра: ios\n",
    "15.4\n",
    "```\n",
    "\n",
    "Ограничение: нельзя изменять словарь london_co.\n",
    "\n"
   ]
  },
  {
   "cell_type": "code",
   "execution_count": 7,
   "metadata": {},
   "outputs": [
    {
     "name": "stdout",
     "output_type": "stream",
     "text": [
      "Введите имя устройства: r1\n",
      "Введите имя устройства: ip\n",
      "10.255.0.1\n"
     ]
    }
   ],
   "source": [
    "london_co = {\n",
    "    \"r1\": {\n",
    "        \"location\": \"21 New Globe Walk\",\n",
    "        \"vendor\": \"Cisco\",\n",
    "        \"model\": \"4451\",\n",
    "        \"ios\": \"15.4\",\n",
    "        \"ip\": \"10.255.0.1\"\n",
    "    },\n",
    "    \"r2\": {\n",
    "        \"location\": \"21 New Globe Walk\",\n",
    "        \"vendor\": \"Cisco\",\n",
    "        \"model\": \"4451\",\n",
    "        \"ios\": \"15.4\",\n",
    "        \"ip\": \"10.255.0.2\"\n",
    "    },\n",
    "    \"sw1\": {\n",
    "        \"location\": \"21 New Globe Walk\",\n",
    "        \"vendor\": \"Cisco\",\n",
    "        \"model\": \"3850\",\n",
    "        \"ios\": \"3.6.XE\",\n",
    "        \"ip\": \"10.255.0.101\",\n",
    "        \"vlans\": \"10,20,30\",\n",
    "        \"routing\": True\n",
    "    }\n",
    "}\n",
    "vvod = input('Введите имя устройства: ')\n",
    "parametr = input(f'Введите имя устройства: ')\n",
    "print(london_co[vvod][parametr])"
   ]
  },
  {
   "cell_type": "markdown",
   "metadata": {},
   "source": [
    "## Задание 1.1b\n",
    "\n",
    "Переделать скрипт из задания 1.1a таким образом, чтобы, при запросе параметра, отображался список возможных параметров. Список параметров надо получить из словаря, а не прописывать вручную.\n",
    "\n",
    "Вывести информацию о соответствующем параметре, указанного устройства.\n",
    "\n",
    "Пример выполнения скрипта:\n",
    "\n",
    "```\n",
    "$ python task_1_1b.py\n",
    "Введите имя устройства: r1\n",
    "Введите имя параметра (location, vendor, model, ios, ip): ip\n",
    "10.255.0.1\n",
    "\n",
    "$ python task_1_1b.py\n",
    "Введите имя устройства: sw1\n",
    "Введите имя параметра (location, vendor, model, ios, ip, vlans, routing): ip\n",
    "10.255.0.101\n",
    "```\n",
    "\n",
    "Ограничение: нельзя изменять словарь london_co."
   ]
  },
  {
   "cell_type": "code",
   "execution_count": 6,
   "metadata": {},
   "outputs": [
    {
     "name": "stdout",
     "output_type": "stream",
     "text": [
      "Введите имя устройства: r1\n",
      "Введите имя устройства (location,vendor,model,ios,ip) :vendor\n",
      "Cisco\n"
     ]
    }
   ],
   "source": [
    "london_co = {\n",
    "    \"r1\": {\n",
    "        \"location\": \"21 New Globe Walk\",\n",
    "        \"vendor\": \"Cisco\",\n",
    "        \"model\": \"4451\",\n",
    "        \"ios\": \"15.4\",\n",
    "        \"ip\": \"10.255.0.1\"\n",
    "    },\n",
    "    \"r2\": {\n",
    "        \"location\": \"21 New Globe Walk\",\n",
    "        \"vendor\": \"Cisco\",\n",
    "        \"model\": \"4451\",\n",
    "        \"ios\": \"15.4\",\n",
    "        \"ip\": \"10.255.0.2\"\n",
    "    },\n",
    "    \"sw1\": {\n",
    "        \"location\": \"21 New Globe Walk\",\n",
    "        \"vendor\": \"Cisco\",\n",
    "        \"model\": \"3850\",\n",
    "        \"ios\": \"3.6.XE\",\n",
    "        \"ip\": \"10.255.0.101\",\n",
    "        \"vlans\": \"10,20,30\",\n",
    "        \"routing\": True\n",
    "    }\n",
    "}\n",
    "vvod = input('Введите имя устройства: ')\n",
    "parametr=','.join(london_co[vvod].keys())     \n",
    "parametrs=input(f'Введите имя устройства ({parametr}) :')\n",
    "print(london_co[vvod][parametrs])"
   ]
  },
  {
   "cell_type": "markdown",
   "metadata": {},
   "source": [
    "## Задание 1.1c\n",
    "\n",
    "Переделать скрипт из задания 1.1b таким образом, чтобы, при запросе параметра, которого нет в словаре устройства, отображалось сообщение „Такого параметра нет“. Задание относится только к параметрам устройств, не к самим устройствам.\n",
    "\n",
    "> Попробуйте набрать неправильное имя параметра или несуществующий параметр, чтобы увидеть какой будет результат. А затем выполняйте задание.\n",
    "\n",
    "Если выбран существующий параметр, вывести информацию о соответствующем параметре, указанного устройства.\n",
    "\n",
    "Пример выполнения скрипта:\n",
    "\n",
    "```\n",
    "$ python task_1_1c.py\n",
    "Введите имя устройства: r1\n",
    "Введите имя параметра (ios, model, vendor, location, ip): ips\n",
    "Такого параметра нет\n",
    "```\n",
    "\n",
    "Ограничение: нельзя изменять словарь london_co."
   ]
  },
  {
   "cell_type": "code",
   "execution_count": 8,
   "metadata": {},
   "outputs": [
    {
     "name": "stdout",
     "output_type": "stream",
     "text": [
      "Введите имя устройства: r1\n",
      "Введите имя устройства (location,vendor,model,ios,ip) :loc\n",
      "Такого параметра нет\n"
     ]
    }
   ],
   "source": [
    "london_co = {\n",
    "    \"r1\": {\n",
    "        \"location\": \"21 New Globe Walk\",\n",
    "        \"vendor\": \"Cisco\",\n",
    "        \"model\": \"4451\",\n",
    "        \"ios\": \"15.4\",\n",
    "        \"ip\": \"10.255.0.1\"\n",
    "    },\n",
    "    \"r2\": {\n",
    "        \"location\": \"21 New Globe Walk\",\n",
    "        \"vendor\": \"Cisco\",\n",
    "        \"model\": \"4451\",\n",
    "        \"ios\": \"15.4\",\n",
    "        \"ip\": \"10.255.0.2\"\n",
    "    },\n",
    "    \"sw1\": {\n",
    "        \"location\": \"21 New Globe Walk\",\n",
    "        \"vendor\": \"Cisco\",\n",
    "        \"model\": \"3850\",\n",
    "        \"ios\": \"3.6.XE\",\n",
    "        \"ip\": \"10.255.0.101\",\n",
    "        \"vlans\": \"10,20,30\",\n",
    "        \"routing\": True\n",
    "    }\n",
    "}\n",
    "vvod = input('Введите имя устройства: ')\n",
    "parametr=','.join(london_co[vvod].keys())     \n",
    "parametrs=input(f'Введите имя устройства ({parametr}) :')\n",
    "print(london_co[vvod].get(parametrs,'Такого параметра нет'))\n"
   ]
  },
  {
   "cell_type": "markdown",
   "metadata": {},
   "source": [
    "## Задание 1.1d\n",
    "\n",
    "Переделать скрипт из задания 1.1c таким образом, чтобы, при запросе параметра, пользователь мог вводить название параметра в любом регистре.\n",
    "\n",
    "Пример выполнения скрипта:\n",
    "\n",
    "```\n",
    "$ python task_1_1d.py\n",
    "Введите имя устройства: r1\n",
    "Введите имя параметра (ios, model, vendor, location, ip): IOS\n",
    "15.4\n",
    "```\n",
    "\n",
    "Ограничение: нельзя изменять словарь london_co."
   ]
  },
  {
   "cell_type": "code",
   "execution_count": 13,
   "metadata": {},
   "outputs": [
    {
     "name": "stdout",
     "output_type": "stream",
     "text": [
      "Введите имя устройства: r1\n",
      "Введите имя устройства (location,vendor,model,ios,ip) :IOS\n",
      "15.4\n"
     ]
    }
   ],
   "source": [
    "london_co = {\n",
    "    \"r1\": {\n",
    "        \"location\": \"21 New Globe Walk\",\n",
    "        \"vendor\": \"Cisco\",\n",
    "        \"model\": \"4451\",\n",
    "        \"ios\": \"15.4\",\n",
    "        \"ip\": \"10.255.0.1\"\n",
    "    },\n",
    "    \"r2\": {\n",
    "        \"location\": \"21 New Globe Walk\",\n",
    "        \"vendor\": \"Cisco\",\n",
    "        \"model\": \"4451\",\n",
    "        \"ios\": \"15.4\",\n",
    "        \"ip\": \"10.255.0.2\"\n",
    "    },\n",
    "    \"sw1\": {\n",
    "        \"location\": \"21 New Globe Walk\",\n",
    "        \"vendor\": \"Cisco\",\n",
    "        \"model\": \"3850\",\n",
    "        \"ios\": \"3.6.XE\",\n",
    "        \"ip\": \"10.255.0.101\",\n",
    "        \"vlans\": \"10,20,30\",\n",
    "        \"routing\": True\n",
    "    }\n",
    "}\n",
    "vvod = input('Введите имя устройства: ')\n",
    "parametr=','.join(london_co[vvod].keys())     \n",
    "parametrs=input(f'Введите имя устройства ({parametr}) :')\n",
    "parametrs=parametrs.lower()\n",
    "print(london_co[vvod].get(parametrs,'Такого параметра нет'))\n",
    "\n"
   ]
  },
  {
   "cell_type": "markdown",
   "metadata": {},
   "source": [
    "## Задание 1.2\n",
    "\n",
    "Запросить у пользователя ввод IP-сети в формате: `10.1.1.0/24`\n",
    "\n",
    "Затем вывести информацию о сети и маске в таком формате:\n",
    "\n",
    "```\n",
    "Network:\n",
    "10        1         1         0\n",
    "00001010  00000001  00000001  00000000\n",
    "\n",
    "Mask:\n",
    "/24\n",
    "255       255       255       0\n",
    "11111111  11111111  11111111  00000000\n",
    "```\n",
    "\n",
    "Проверить работу скрипта на разных комбинациях сеть/маска.\n",
    "\n",
    "Подсказка: Получить маску в двоичном формате можно так:\n",
    "\n",
    "```\n",
    "In [1]: \"1\" * 28 + \"0\" * 4\n",
    "Out[1]: \"11111111111111111111111111110000\"\n",
    "```"
   ]
  },
  {
   "cell_type": "code",
   "execution_count": 19,
   "metadata": {},
   "outputs": [
    {
     "name": "stdout",
     "output_type": "stream",
     "text": [
      "Введите IP-адрес в формате XXX.XXX.XXX.XXX/24 192.168.1.0/24\n",
      "\n",
      "Network:\n",
      "192       168       1         0       \n",
      "11000000  10101000  00000001  00000000\n",
      "\n",
      "Mask:\n",
      "/24\n",
      "255      255      255      0       \n",
      "11111111 11111111 11111111 00000000\n"
     ]
    }
   ],
   "source": [
    "ip = input('Введите IP-адрес в формате XXX.XXX.XXX.XXX/XX ')\n",
    "ip_1, mask = ip.split(\"/\")\n",
    "ip_list = ip_1.split(\".\")\n",
    "mask = int(mask)\n",
    "\n",
    "oct1, oct2, oct3, oct4 = [int(ip_list[0]), int(ip_list[1]), int(ip_list[2]), int(ip_list[3])]\n",
    "bin_mask = \"1\" * mask + \"0\" * (32 - mask)\n",
    "m1, m2, m3, m4 = [int(bin_mask[0:8], 2),int(bin_mask[8:16], 2),int(bin_mask[16:24], 2),int(bin_mask[24:32], 2)]\n",
    "ip_output = \"\"\"\n",
    "Network:\n",
    "{0:<8}  {1:<8}  {2:<8}  {3:<8}\n",
    "{0:08b}  {1:08b}  {2:08b}  {3:08b}\"\"\"\n",
    "\n",
    "mask_output = \"\"\"\n",
    "Mask:\n",
    "/{0}\n",
    "{1:<8} {2:<8} {3:<8} {4:<8}\n",
    "{1:08b} {2:08b} {3:08b} {4:08b}\"\"\"\n",
    "\n",
    "print(ip_output.format(oct1, oct2, oct3, oct4))\n",
    "print(mask_output.format(mask, m1, m2, m3, m4))"
   ]
  },
  {
   "cell_type": "markdown",
   "metadata": {},
   "source": [
    "## Задание 1.2a\n",
    "\n",
    "Всё, как в задании 1.2, но, если пользователь ввел адрес хоста, а не адрес сети, надо преобразовать адрес хоста в адрес сети и вывести адрес сети и маску, как в задании 1.2.\n",
    "\n",
    "Пример адреса сети (все биты хостовой части равны нулю):\n",
    "\n",
    "* 10.0.1.0/24\n",
    "* 190.1.0.0/16\n",
    "\n",
    "Пример адреса хоста:\n",
    "\n",
    "* 10.0.1.1/24 - хост из сети 10.0.1.0/24\n",
    "* 10.0.5.195/28 - хост из сети 10.0.5.192/28\n",
    "\n",
    "Если пользователь ввел адрес 10.0.1.1/24, вывод должен быть таким:\n",
    "\n",
    "```\n",
    "Network:\n",
    "10        0         1         0\n",
    "00001010  00000000  00000001  00000000\n",
    "\n",
    "Mask:\n",
    "/24\n",
    "255       255       255       0\n",
    "11111111  11111111  11111111  00000000\n",
    "```\n",
    "\n",
    "Проверить работу скрипта на разных комбинациях хост/маска, например: 10.0.5.195/28, 10.0.1.1/24\n",
    "\n",
    "Подсказка:\n",
    "\n",
    "Есть адрес хоста в двоичном формате и маска сети 28. Адрес сети это первые 28 бит адреса хоста + 4 ноля. То есть, например, адрес хоста 10.1.1.195/28 в двоичном формате будет `bin_ip = \"00001010000000010000000111000011\"`.\n",
    "\n",
    "А адрес сети будет первых 28 символов из bin_ip + 0000 (4 потому что всего в адресе может быть 32 бита, а 32 - 28 = 4): `00001010000000010000000111000000`\n",
    "\n",
    "Ограничение: Все задания надо выполнять используя только пройденные темы."
   ]
  },
  {
   "cell_type": "code",
   "execution_count": 5,
   "metadata": {},
   "outputs": [
    {
     "name": "stdout",
     "output_type": "stream",
     "text": [
      "Введите IP-адрес в формате XXX.XXX.XXX.XXX/24 10.0.1.1/24\n",
      "\n",
      "Network:\n",
      "10        0         1         0       \n",
      "00001010  00000000  00000001  00000000\n",
      "\n",
      "Mask:\n",
      "/24\n",
      "255      255      255      0       \n",
      "11111111 11111111 11111111 00000000\n"
     ]
    }
   ],
   "source": [
    "ip = input('Введите IP-адрес в формате XXX.XXX.XXX.XXX/XX ')\n",
    "ip_1, mask = ip.split(\"/\")\n",
    "ip_list = ip_1.split(\".\")\n",
    "mask = int(mask)\n",
    "\n",
    "oct1, oct2, oct3, oct4 = [int(ip_list[0]), int(ip_list[1]), int(ip_list[2]), int(ip_list[3])]\n",
    "ip_oct = '{:08b}{:08b}{:08b}{:08b}'.format(oct1,oct2,oct3,oct4)\n",
    "ip_2 = ip_oct[0:mask] + \"0\" * (32 - mask)\n",
    "oct1, oct2, oct3, oct4 = [int(ip_2[0:8], 2), int(ip_2[8:16], 2), int(ip_2[16:24], 2), int(ip_2[24:32],2)]\n",
    "bin_mask = \"1\" * mask + \"0\" * (32 - mask)\n",
    "m1, m2, m3, m4 = [int(bin_mask[0:8], 2),int(bin_mask[8:16], 2),int(bin_mask[16:24], 2),int(bin_mask[24:32], 2)]\n",
    "\n",
    "ip_output = \"\"\"\n",
    "Network:\n",
    "{0:<8}  {1:<8}  {2:<8}  {3:<8}\n",
    "{0:08b}  {1:08b}  {2:08b}  {3:08b}\"\"\"\n",
    "\n",
    "mask_output = \"\"\"\n",
    "Mask:\n",
    "/{0}\n",
    "{1:<8} {2:<8} {3:<8} {4:<8}\n",
    "{1:08b} {2:08b} {3:08b} {4:08b}\"\"\"\n",
    "\n",
    "print(ip_output.format(oct1, oct2, oct3, oct4))\n",
    "print(mask_output.format(mask, m1, m2, m3, m4))"
   ]
  },
  {
   "cell_type": "markdown",
   "metadata": {},
   "source": [
    "## Задание 1.3\n",
    "\n",
    "Скрипт должен запрашивать у пользователя:\n",
    "\n",
    "* информацию о режиме интерфейса (access/trunk)\n",
    "* номере интерфейса (тип и номер, вида Gi0/3)\n",
    "* номер VLANа (для режима trunk будет вводиться список VLANов)\n",
    "\n",
    "В зависимости от выбранного режима, на стандартный поток вывода, должна возвращаться соответствующая конфигурация access или trunk (шаблоны команд находятся в списках access_template и trunk_template).\n",
    "\n",
    "При этом, сначала должна идти строка interface и подставлен номер интерфейса, а затем соответствующий шаблон, в который подставлен номер VLANа (или список VLANов).\n",
    "\n",
    "Подсказка: Подводящим к этому заданию было задание 1.1. Чтобы было легче решить это задание, можно посмотреть на задание 1.1 и разобраться как там получилось вывести разную информацию в зависимости от ввода пользователя.\n",
    "\n",
    "Ниже примеры выполнения скрипта, чтобы было проще понять задачу.\n",
    "\n",
    "Пример выполнения скрипта, при выборе режима access:\n",
    "\n",
    "```\n",
    "$ python task_1_3.py\n",
    "Введите режим работы интерфейса (access/trunk): access\n",
    "Введите тип и номер интерфейса: Fa0/6\n",
    "Введите номер влан(ов): 3\n",
    "\n",
    "interface Fa0/6\n",
    "switchport mode access\n",
    "switchport access vlan 3\n",
    "switchport nonegotiate\n",
    "spanning-tree portfast\n",
    "spanning-tree bpduguard enable\n",
    "```\n",
    "\n",
    "Пример выполнения скрипта, при выборе режима trunk:\n",
    "\n",
    "```\n",
    "$ python task_1_3.py\n",
    "Введите режим работы интерфейса (access/trunk): trunk\n",
    "Введите тип и номер интерфейса: Fa0/7\n",
    "Введите номер влан(ов): 2,3,4,5\n",
    "\n",
    "interface Fa0/7\n",
    "switchport trunk encapsulation dot1q\n",
    "switchport mode trunk\n",
    "switchport trunk allowed vlan 2,3,4,5\n",
    "```"
   ]
  },
  {
   "cell_type": "code",
   "execution_count": 8,
   "metadata": {},
   "outputs": [
    {
     "name": "stdout",
     "output_type": "stream",
     "text": [
      "Введите режим работы интерфейса (access/trunk):access\n",
      "Введите тип и номер интерфейса:Fa0/6\n",
      "Введите номер влан(ов):9\n",
      "interface Fa0/6\n",
      "switchport mode access\n",
      "switchport access vlan 9\n",
      "switchport nonegotiate\n",
      "spanning-tree portfast\n",
      "spanning-tree bpduguard enable\n"
     ]
    }
   ],
   "source": [
    "access_template = [\n",
    "    \"switchport mode access\", \"switchport access vlan {}\",\n",
    "    \"switchport nonegotiate\", \"spanning-tree portfast\",\n",
    "    \"spanning-tree bpduguard enable\"]\n",
    "\n",
    "trunk_template = [\n",
    "    \"switchport trunk encapsulation dot1q\", \"switchport mode trunk\",\n",
    "    \"switchport trunk allowed vlan {}\"]\n",
    "access_trunk = input('Введите режим работы интерфейса (access/trunk):')\n",
    "interface = input('Введите тип и номер интерфейса:')\n",
    "vlan = input('Введите номер влан(ов):')\n",
    "print(f'interface {interface}')\n",
    "if 'access' in access_trunk:\n",
    "    for i in access_template:\n",
    "        if 'vlan' in i:\n",
    "            print(''.join(i).format(vlan))\n",
    "        else:\n",
    "            print(i)\n",
    "else:\n",
    "    for i in trunk_template:\n",
    "        if 'vlan' in i:\n",
    "            print(''.join(i).format(vlan))\n",
    "        else:\n",
    "            print(i)"
   ]
  },
  {
   "cell_type": "markdown",
   "metadata": {},
   "source": [
    "## Задание 1.3a\n",
    "\n",
    "Дополнить скрипт из задания 1.3 таким образом, чтобы, в зависимости от выбранного режима, задавались разные вопросы в запросе о номере VLANа или списка VLANов:\n",
    "\n",
    "* для access: «Введите номер VLAN:»\n",
    "* для trunk: «Введите разрешенные VLANы:»"
   ]
  },
  {
   "cell_type": "code",
   "execution_count": 10,
   "metadata": {},
   "outputs": [
    {
     "name": "stdout",
     "output_type": "stream",
     "text": [
      "Введите режим работы интерфейса (access/trunk):trunk\n",
      "Введите тип и номер интерфейса:Fa0/7\n",
      "Введите разрешенные VLANы2,4,6\n",
      "interface Fa0/7\n",
      "switchport trunk encapsulation dot1q\n",
      "switchport mode trunk\n",
      "switchport trunk allowed vlan 2,4,6\n"
     ]
    }
   ],
   "source": [
    "access_template = [\n",
    "    \"switchport mode access\", \"switchport access vlan {}\",\n",
    "    \"switchport nonegotiate\", \"spanning-tree portfast\",\n",
    "    \"spanning-tree bpduguard enable\"]\n",
    "\n",
    "trunk_template = [\n",
    "    \"switchport trunk encapsulation dot1q\", \"switchport mode trunk\",\n",
    "    \"switchport trunk allowed vlan {}\"]\n",
    "access_trunk = input('Введите режим работы интерфейса (access/trunk):')\n",
    "interface = input('Введите тип и номер интерфейса:')\n",
    "if 'access' in access_trunk:\n",
    "    vlan = input('Введите номер VLAN:')\n",
    "    print(f'interface {interface}')\n",
    "    for i in access_template:\n",
    "        if 'vlan' in i:\n",
    "            print(''.join(i).format(vlan))\n",
    "        else:\n",
    "            print(i)\n",
    "else:\n",
    "    vlan = input('Введите разрешенные VLANы')\n",
    "    print(f'interface {interface}')\n",
    "    for i in trunk_template:\n",
    "        if 'vlan' in i:\n",
    "            print(''.join(i).format(vlan))\n",
    "        else:\n",
    "            print(i)"
   ]
  }
 ],
 "metadata": {
  "interpreter": {
   "hash": "aee8b7b246df8f9039afb4144a1f6fd8d2ca17a180786b69acc140d282b71a49"
  },
  "kernelspec": {
   "display_name": "Python 3 (ipykernel)",
   "language": "python",
   "name": "python3"
  },
  "language_info": {
   "codemirror_mode": {
    "name": "ipython",
    "version": 3
   },
   "file_extension": ".py",
   "mimetype": "text/x-python",
   "name": "python",
   "nbconvert_exporter": "python",
   "pygments_lexer": "ipython3",
   "version": "3.9.13"
  }
 },
 "nbformat": 4,
 "nbformat_minor": 2
}
